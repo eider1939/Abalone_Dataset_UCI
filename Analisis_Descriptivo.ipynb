{
 "cells": [
  {
   "cell_type": "code",
   "execution_count": 49,
   "metadata": {},
   "outputs": [],
   "source": [
    "import pandas as pd\n",
    "import numpy as np\n",
    "import matplotlib.pyplot as plt\n",
    "import seaborn as sns"
   ]
  },
  {
   "cell_type": "code",
   "execution_count": 50,
   "metadata": {},
   "outputs": [],
   "source": [
    "data=pd.read_csv(\"abalone.csv\",sep=\";\")"
   ]
  },
  {
   "attachments": {},
   "cell_type": "markdown",
   "metadata": {},
   "source": [
    "### Descripcion General"
   ]
  },
  {
   "cell_type": "code",
   "execution_count": 51,
   "metadata": {},
   "outputs": [
    {
     "data": {
      "text/html": [
       "<div>\n",
       "<style scoped>\n",
       "    .dataframe tbody tr th:only-of-type {\n",
       "        vertical-align: middle;\n",
       "    }\n",
       "\n",
       "    .dataframe tbody tr th {\n",
       "        vertical-align: top;\n",
       "    }\n",
       "\n",
       "    .dataframe thead th {\n",
       "        text-align: right;\n",
       "    }\n",
       "</style>\n",
       "<table border=\"1\" class=\"dataframe\">\n",
       "  <thead>\n",
       "    <tr style=\"text-align: right;\">\n",
       "      <th></th>\n",
       "      <th>Length</th>\n",
       "      <th>Diameter</th>\n",
       "      <th>Height</th>\n",
       "      <th>Whole</th>\n",
       "      <th>Shucked</th>\n",
       "      <th>Viscera</th>\n",
       "      <th>Shell</th>\n",
       "      <th>Rings</th>\n",
       "    </tr>\n",
       "  </thead>\n",
       "  <tbody>\n",
       "    <tr>\n",
       "      <th>count</th>\n",
       "      <td>4177.000000</td>\n",
       "      <td>4177.000000</td>\n",
       "      <td>4177.000000</td>\n",
       "      <td>4177.000000</td>\n",
       "      <td>4177.000000</td>\n",
       "      <td>4177.000000</td>\n",
       "      <td>4177.000000</td>\n",
       "      <td>4177.000000</td>\n",
       "    </tr>\n",
       "    <tr>\n",
       "      <th>mean</th>\n",
       "      <td>271.490065</td>\n",
       "      <td>212.430213</td>\n",
       "      <td>74.993057</td>\n",
       "      <td>4400.628202</td>\n",
       "      <td>1960.275078</td>\n",
       "      <td>981.941585</td>\n",
       "      <td>597.896816</td>\n",
       "      <td>9.933684</td>\n",
       "    </tr>\n",
       "    <tr>\n",
       "      <th>std</th>\n",
       "      <td>251.479198</td>\n",
       "      <td>198.702603</td>\n",
       "      <td>69.781392</td>\n",
       "      <td>5009.648173</td>\n",
       "      <td>2310.120154</td>\n",
       "      <td>1124.953625</td>\n",
       "      <td>1076.780152</td>\n",
       "      <td>3.224169</td>\n",
       "    </tr>\n",
       "    <tr>\n",
       "      <th>min</th>\n",
       "      <td>2.000000</td>\n",
       "      <td>1.000000</td>\n",
       "      <td>0.000000</td>\n",
       "      <td>1.000000</td>\n",
       "      <td>1.000000</td>\n",
       "      <td>1.000000</td>\n",
       "      <td>1.000000</td>\n",
       "      <td>1.000000</td>\n",
       "    </tr>\n",
       "    <tr>\n",
       "      <th>25%</th>\n",
       "      <td>52.000000</td>\n",
       "      <td>39.000000</td>\n",
       "      <td>14.000000</td>\n",
       "      <td>658.000000</td>\n",
       "      <td>273.000000</td>\n",
       "      <td>147.000000</td>\n",
       "      <td>35.000000</td>\n",
       "      <td>8.000000</td>\n",
       "    </tr>\n",
       "    <tr>\n",
       "      <th>50%</th>\n",
       "      <td>68.000000</td>\n",
       "      <td>55.000000</td>\n",
       "      <td>19.000000</td>\n",
       "      <td>1548.000000</td>\n",
       "      <td>659.000000</td>\n",
       "      <td>345.000000</td>\n",
       "      <td>195.000000</td>\n",
       "      <td>9.000000</td>\n",
       "    </tr>\n",
       "    <tr>\n",
       "      <th>75%</th>\n",
       "      <td>525.000000</td>\n",
       "      <td>415.000000</td>\n",
       "      <td>145.000000</td>\n",
       "      <td>7715.000000</td>\n",
       "      <td>3325.000000</td>\n",
       "      <td>1715.000000</td>\n",
       "      <td>405.000000</td>\n",
       "      <td>11.000000</td>\n",
       "    </tr>\n",
       "    <tr>\n",
       "      <th>max</th>\n",
       "      <td>815.000000</td>\n",
       "      <td>625.000000</td>\n",
       "      <td>515.000000</td>\n",
       "      <td>28255.000000</td>\n",
       "      <td>13485.000000</td>\n",
       "      <td>6415.000000</td>\n",
       "      <td>7975.000000</td>\n",
       "      <td>29.000000</td>\n",
       "    </tr>\n",
       "  </tbody>\n",
       "</table>\n",
       "</div>"
      ],
      "text/plain": [
       "            Length     Diameter       Height         Whole       Shucked  \\\n",
       "count  4177.000000  4177.000000  4177.000000   4177.000000   4177.000000   \n",
       "mean    271.490065   212.430213    74.993057   4400.628202   1960.275078   \n",
       "std     251.479198   198.702603    69.781392   5009.648173   2310.120154   \n",
       "min       2.000000     1.000000     0.000000      1.000000      1.000000   \n",
       "25%      52.000000    39.000000    14.000000    658.000000    273.000000   \n",
       "50%      68.000000    55.000000    19.000000   1548.000000    659.000000   \n",
       "75%     525.000000   415.000000   145.000000   7715.000000   3325.000000   \n",
       "max     815.000000   625.000000   515.000000  28255.000000  13485.000000   \n",
       "\n",
       "           Viscera        Shell        Rings  \n",
       "count  4177.000000  4177.000000  4177.000000  \n",
       "mean    981.941585   597.896816     9.933684  \n",
       "std    1124.953625  1076.780152     3.224169  \n",
       "min       1.000000     1.000000     1.000000  \n",
       "25%     147.000000    35.000000     8.000000  \n",
       "50%     345.000000   195.000000     9.000000  \n",
       "75%    1715.000000   405.000000    11.000000  \n",
       "max    6415.000000  7975.000000    29.000000  "
      ]
     },
     "execution_count": 51,
     "metadata": {},
     "output_type": "execute_result"
    }
   ],
   "source": [
    "data.describe()"
   ]
  },
  {
   "cell_type": "code",
   "execution_count": 52,
   "metadata": {},
   "outputs": [],
   "source": [
    "data=data.astype({'Length':'int','Diameter':'int','Height':'int','Whole':'int','Shucked':'int',\n",
    "                  'Viscera':'int','Shell':'int','Rings':'int'})"
   ]
  },
  {
   "cell_type": "code",
   "execution_count": 53,
   "metadata": {},
   "outputs": [],
   "source": [
    "#convertimos las columnas necesarias de mm a metros y de gramos \n",
    "data['Length']=data['Length']/1000\n",
    "data['Diameter']=data['Diameter']/1000\n",
    "data['Height']=data['Height']/1000\n",
    "\n",
    "data['Whole']=data['Whole']/10000\n",
    "data['Shucked']=data['Shucked']/10000\n",
    "data['Viscera']=data['Viscera']/10000\n",
    "data['Shell']=data['Shell']/10000"
   ]
  },
  {
   "cell_type": "code",
   "execution_count": 54,
   "metadata": {},
   "outputs": [
    {
     "data": {
      "text/html": [
       "<div>\n",
       "<style scoped>\n",
       "    .dataframe tbody tr th:only-of-type {\n",
       "        vertical-align: middle;\n",
       "    }\n",
       "\n",
       "    .dataframe tbody tr th {\n",
       "        vertical-align: top;\n",
       "    }\n",
       "\n",
       "    .dataframe thead th {\n",
       "        text-align: right;\n",
       "    }\n",
       "</style>\n",
       "<table border=\"1\" class=\"dataframe\">\n",
       "  <thead>\n",
       "    <tr style=\"text-align: right;\">\n",
       "      <th></th>\n",
       "      <th>Length</th>\n",
       "      <th>Diameter</th>\n",
       "      <th>Height</th>\n",
       "      <th>Whole</th>\n",
       "      <th>Shucked</th>\n",
       "      <th>Viscera</th>\n",
       "      <th>Shell</th>\n",
       "      <th>Rings</th>\n",
       "    </tr>\n",
       "  </thead>\n",
       "  <tbody>\n",
       "    <tr>\n",
       "      <th>count</th>\n",
       "      <td>4177.000</td>\n",
       "      <td>4177.000</td>\n",
       "      <td>4177.000</td>\n",
       "      <td>4177.000</td>\n",
       "      <td>4177.000</td>\n",
       "      <td>4177.000</td>\n",
       "      <td>4177.000</td>\n",
       "      <td>4177.000</td>\n",
       "    </tr>\n",
       "    <tr>\n",
       "      <th>mean</th>\n",
       "      <td>0.271</td>\n",
       "      <td>0.212</td>\n",
       "      <td>0.075</td>\n",
       "      <td>0.440</td>\n",
       "      <td>0.196</td>\n",
       "      <td>0.098</td>\n",
       "      <td>0.060</td>\n",
       "      <td>9.934</td>\n",
       "    </tr>\n",
       "    <tr>\n",
       "      <th>std</th>\n",
       "      <td>0.251</td>\n",
       "      <td>0.199</td>\n",
       "      <td>0.070</td>\n",
       "      <td>0.501</td>\n",
       "      <td>0.231</td>\n",
       "      <td>0.112</td>\n",
       "      <td>0.108</td>\n",
       "      <td>3.224</td>\n",
       "    </tr>\n",
       "    <tr>\n",
       "      <th>min</th>\n",
       "      <td>0.002</td>\n",
       "      <td>0.001</td>\n",
       "      <td>0.000</td>\n",
       "      <td>0.000</td>\n",
       "      <td>0.000</td>\n",
       "      <td>0.000</td>\n",
       "      <td>0.000</td>\n",
       "      <td>1.000</td>\n",
       "    </tr>\n",
       "    <tr>\n",
       "      <th>25%</th>\n",
       "      <td>0.052</td>\n",
       "      <td>0.039</td>\n",
       "      <td>0.014</td>\n",
       "      <td>0.066</td>\n",
       "      <td>0.027</td>\n",
       "      <td>0.015</td>\n",
       "      <td>0.004</td>\n",
       "      <td>8.000</td>\n",
       "    </tr>\n",
       "    <tr>\n",
       "      <th>50%</th>\n",
       "      <td>0.068</td>\n",
       "      <td>0.055</td>\n",
       "      <td>0.019</td>\n",
       "      <td>0.155</td>\n",
       "      <td>0.066</td>\n",
       "      <td>0.034</td>\n",
       "      <td>0.020</td>\n",
       "      <td>9.000</td>\n",
       "    </tr>\n",
       "    <tr>\n",
       "      <th>75%</th>\n",
       "      <td>0.525</td>\n",
       "      <td>0.415</td>\n",
       "      <td>0.145</td>\n",
       "      <td>0.772</td>\n",
       "      <td>0.332</td>\n",
       "      <td>0.172</td>\n",
       "      <td>0.040</td>\n",
       "      <td>11.000</td>\n",
       "    </tr>\n",
       "    <tr>\n",
       "      <th>max</th>\n",
       "      <td>0.815</td>\n",
       "      <td>0.625</td>\n",
       "      <td>0.515</td>\n",
       "      <td>2.826</td>\n",
       "      <td>1.348</td>\n",
       "      <td>0.642</td>\n",
       "      <td>0.798</td>\n",
       "      <td>29.000</td>\n",
       "    </tr>\n",
       "  </tbody>\n",
       "</table>\n",
       "</div>"
      ],
      "text/plain": [
       "         Length  Diameter    Height     Whole   Shucked   Viscera     Shell  \\\n",
       "count  4177.000  4177.000  4177.000  4177.000  4177.000  4177.000  4177.000   \n",
       "mean      0.271     0.212     0.075     0.440     0.196     0.098     0.060   \n",
       "std       0.251     0.199     0.070     0.501     0.231     0.112     0.108   \n",
       "min       0.002     0.001     0.000     0.000     0.000     0.000     0.000   \n",
       "25%       0.052     0.039     0.014     0.066     0.027     0.015     0.004   \n",
       "50%       0.068     0.055     0.019     0.155     0.066     0.034     0.020   \n",
       "75%       0.525     0.415     0.145     0.772     0.332     0.172     0.040   \n",
       "max       0.815     0.625     0.515     2.826     1.348     0.642     0.798   \n",
       "\n",
       "          Rings  \n",
       "count  4177.000  \n",
       "mean      9.934  \n",
       "std       3.224  \n",
       "min       1.000  \n",
       "25%       8.000  \n",
       "50%       9.000  \n",
       "75%      11.000  \n",
       "max      29.000  "
      ]
     },
     "execution_count": 54,
     "metadata": {},
     "output_type": "execute_result"
    }
   ],
   "source": [
    "data.describe().round(3)"
   ]
  },
  {
   "attachments": {},
   "cell_type": "markdown",
   "metadata": {},
   "source": [
    "### Correlacion entre variables"
   ]
  },
  {
   "cell_type": "code",
   "execution_count": 55,
   "metadata": {},
   "outputs": [
    {
     "data": {
      "text/html": [
       "<div>\n",
       "<style scoped>\n",
       "    .dataframe tbody tr th:only-of-type {\n",
       "        vertical-align: middle;\n",
       "    }\n",
       "\n",
       "    .dataframe tbody tr th {\n",
       "        vertical-align: top;\n",
       "    }\n",
       "\n",
       "    .dataframe thead th {\n",
       "        text-align: right;\n",
       "    }\n",
       "</style>\n",
       "<table border=\"1\" class=\"dataframe\">\n",
       "  <thead>\n",
       "    <tr style=\"text-align: right;\">\n",
       "      <th></th>\n",
       "      <th>Length</th>\n",
       "      <th>Diameter</th>\n",
       "      <th>Height</th>\n",
       "      <th>Whole</th>\n",
       "      <th>Shucked</th>\n",
       "      <th>Viscera</th>\n",
       "      <th>Shell</th>\n",
       "      <th>Rings</th>\n",
       "    </tr>\n",
       "  </thead>\n",
       "  <tbody>\n",
       "    <tr>\n",
       "      <th>Length</th>\n",
       "      <td>1.000000</td>\n",
       "      <td>0.035983</td>\n",
       "      <td>0.061363</td>\n",
       "      <td>0.091839</td>\n",
       "      <td>0.113756</td>\n",
       "      <td>0.111057</td>\n",
       "      <td>0.078599</td>\n",
       "      <td>0.114894</td>\n",
       "    </tr>\n",
       "    <tr>\n",
       "      <th>Diameter</th>\n",
       "      <td>0.035983</td>\n",
       "      <td>1.000000</td>\n",
       "      <td>0.074609</td>\n",
       "      <td>0.137000</td>\n",
       "      <td>0.156661</td>\n",
       "      <td>0.137739</td>\n",
       "      <td>0.062911</td>\n",
       "      <td>0.181456</td>\n",
       "    </tr>\n",
       "    <tr>\n",
       "      <th>Height</th>\n",
       "      <td>0.061363</td>\n",
       "      <td>0.074609</td>\n",
       "      <td>1.000000</td>\n",
       "      <td>0.121315</td>\n",
       "      <td>0.160447</td>\n",
       "      <td>0.173241</td>\n",
       "      <td>0.088660</td>\n",
       "      <td>0.223950</td>\n",
       "    </tr>\n",
       "    <tr>\n",
       "      <th>Whole</th>\n",
       "      <td>0.091839</td>\n",
       "      <td>0.137000</td>\n",
       "      <td>0.121315</td>\n",
       "      <td>1.000000</td>\n",
       "      <td>0.264060</td>\n",
       "      <td>0.221817</td>\n",
       "      <td>0.173351</td>\n",
       "      <td>0.251008</td>\n",
       "    </tr>\n",
       "    <tr>\n",
       "      <th>Shucked</th>\n",
       "      <td>0.113756</td>\n",
       "      <td>0.156661</td>\n",
       "      <td>0.160447</td>\n",
       "      <td>0.264060</td>\n",
       "      <td>1.000000</td>\n",
       "      <td>0.278559</td>\n",
       "      <td>0.217468</td>\n",
       "      <td>0.225632</td>\n",
       "    </tr>\n",
       "    <tr>\n",
       "      <th>Viscera</th>\n",
       "      <td>0.111057</td>\n",
       "      <td>0.137739</td>\n",
       "      <td>0.173241</td>\n",
       "      <td>0.221817</td>\n",
       "      <td>0.278559</td>\n",
       "      <td>1.000000</td>\n",
       "      <td>0.201557</td>\n",
       "      <td>0.256909</td>\n",
       "    </tr>\n",
       "    <tr>\n",
       "      <th>Shell</th>\n",
       "      <td>0.078599</td>\n",
       "      <td>0.062911</td>\n",
       "      <td>0.088660</td>\n",
       "      <td>0.173351</td>\n",
       "      <td>0.217468</td>\n",
       "      <td>0.201557</td>\n",
       "      <td>1.000000</td>\n",
       "      <td>0.041436</td>\n",
       "    </tr>\n",
       "    <tr>\n",
       "      <th>Rings</th>\n",
       "      <td>0.114894</td>\n",
       "      <td>0.181456</td>\n",
       "      <td>0.223950</td>\n",
       "      <td>0.251008</td>\n",
       "      <td>0.225632</td>\n",
       "      <td>0.256909</td>\n",
       "      <td>0.041436</td>\n",
       "      <td>1.000000</td>\n",
       "    </tr>\n",
       "  </tbody>\n",
       "</table>\n",
       "</div>"
      ],
      "text/plain": [
       "            Length  Diameter    Height     Whole   Shucked   Viscera  \\\n",
       "Length    1.000000  0.035983  0.061363  0.091839  0.113756  0.111057   \n",
       "Diameter  0.035983  1.000000  0.074609  0.137000  0.156661  0.137739   \n",
       "Height    0.061363  0.074609  1.000000  0.121315  0.160447  0.173241   \n",
       "Whole     0.091839  0.137000  0.121315  1.000000  0.264060  0.221817   \n",
       "Shucked   0.113756  0.156661  0.160447  0.264060  1.000000  0.278559   \n",
       "Viscera   0.111057  0.137739  0.173241  0.221817  0.278559  1.000000   \n",
       "Shell     0.078599  0.062911  0.088660  0.173351  0.217468  0.201557   \n",
       "Rings     0.114894  0.181456  0.223950  0.251008  0.225632  0.256909   \n",
       "\n",
       "             Shell     Rings  \n",
       "Length    0.078599  0.114894  \n",
       "Diameter  0.062911  0.181456  \n",
       "Height    0.088660  0.223950  \n",
       "Whole     0.173351  0.251008  \n",
       "Shucked   0.217468  0.225632  \n",
       "Viscera   0.201557  0.256909  \n",
       "Shell     1.000000  0.041436  \n",
       "Rings     0.041436  1.000000  "
      ]
     },
     "execution_count": 55,
     "metadata": {},
     "output_type": "execute_result"
    }
   ],
   "source": [
    "data.corr()"
   ]
  },
  {
   "cell_type": "code",
   "execution_count": 56,
   "metadata": {},
   "outputs": [
    {
     "data": {
      "image/png": "[encoded data removed]",
      "text/plain": [
       "<Figure size 432x288 with 2 Axes>"
      ]
     },
     "metadata": {
      "needs_background": "light"
     },
     "output_type": "display_data"
    }
   ],
   "source": [
    "corr_matrix = data.corr()\n",
    "sns.heatmap(corr_matrix, annot=True)\n",
    "plt.title('Mapa de calor de la matriz de correlación')\n",
    "plt.show()"
   ]
  },
  {
   "attachments": {},
   "cell_type": "markdown",
   "metadata": {},
   "source": [
    "Para interpretar los resultados de corr, debes prestar atención a los valores de la matriz de correlación:\n",
    "\n",
    "* Si un valor es cercano a 1, significa que hay una correlación positiva fuerte entre las dos variables. Esto significa que si una variable aumenta, la otra variable también tiende a aumentar.\n",
    "* Si un valor es cercano a -1, significa que hay una correlación negativa fuerte entre las dos variables. Esto significa que   si una variable aumenta, la otra variable tiende a disminuir.\n",
    "* Si un valor es cercano a 0, significa que no hay una correlación lineal fuerte entre las dos variables."
   ]
  },
  {
   "attachments": {},
   "cell_type": "markdown",
   "metadata": {},
   "source": [
    "### Visualizacion"
   ]
  },
  {
   "attachments": {},
   "cell_type": "markdown",
   "metadata": {},
   "source": [
    "#### Sex"
   ]
  },
  {
   "cell_type": "code",
   "execution_count": 71,
   "metadata": {},
   "outputs": [
    {
     "data": {
      "text/plain": [
       "<AxesSubplot: xlabel='Sex'>"
      ]
     },
     "execution_count": 71,
     "metadata": {},
     "output_type": "execute_result"
    },
    {
     "data": {
      "image/png": "[encoded data removed]",
      "text/plain": [
       "<Figure size 432x288 with 1 Axes>"
      ]
     },
     "metadata": {
      "needs_background": "light"
     },
     "output_type": "display_data"
    }
   ],
   "source": [
    "sex=data.groupby('Sex').count()['Rings']\n",
    "sex.plot(kind='bar')"
   ]
  },
  {
   "cell_type": "code",
   "execution_count": 73,
   "metadata": {},
   "outputs": [
    {
     "data": {
      "text/plain": [
       "Sex\n",
       "F    0.312904\n",
       "I    0.321283\n",
       "M    0.365813\n",
       "Name: Rings, dtype: float64"
      ]
     },
     "execution_count": 73,
     "metadata": {},
     "output_type": "execute_result"
    }
   ],
   "source": [
    "sex/4177"
   ]
  },
  {
   "attachments": {},
   "cell_type": "markdown",
   "metadata": {},
   "source": [
    "Como se puede observar por la grafica de barras la poblacion de abalones esta distribuida casi de igual proporcion ya que:\n",
    "\n",
    "Masculino(\"M\") es de un 36.6%\n",
    "\n",
    "Femenino(\"F\") un 31.3%\n",
    "\n",
    "Infantes(\"I\") un 32.1%"
   ]
  },
  {
   "attachments": {},
   "cell_type": "markdown",
   "metadata": {},
   "source": [
    "#### Rings"
   ]
  },
  {
   "cell_type": "code",
   "execution_count": 79,
   "metadata": {},
   "outputs": [
    {
     "data": {
      "image/png": "[encoded data removed]",
      "text/plain": [
       "<Figure size 432x288 with 1 Axes>"
      ]
     },
     "metadata": {
      "needs_background": "light"
     },
     "output_type": "display_data"
    }
   ],
   "source": [
    "# Calcular los intervalos según la regla de Freedman-Diaconis\n",
    "iqr = np.percentile(data['Rings'], 75) - np.percentile(data['Rings'], 25)\n",
    "bins = int(np.ceil((max(data['Rings']) - min(data['Rings'])) / (2 * iqr / (len(data['Rings'])**(1/3)))))\n",
    "\n",
    "# Crear el histograma con los intervalos seleccionados\n",
    "plt.hist(data['Rings'], bins=bins, edgecolor='black')\n",
    "\n",
    "# Agregar etiquetas y título\n",
    "plt.xlabel('Valores')\n",
    "plt.ylabel('Frecuencia')\n",
    "plt.title('Histograma con intervalos seleccionados por la regla de Freedman-Diaconis')\n",
    "\n",
    "# Mostrar el histograma\n",
    "plt.show()"
   ]
  },
  {
   "cell_type": "code",
   "execution_count": 80,
   "metadata": {},
   "outputs": [
    {
     "data": {
      "text/plain": [
       "76"
      ]
     },
     "execution_count": 80,
     "metadata": {},
     "output_type": "execute_result"
    }
   ],
   "source": [
    "bins"
   ]
  }
 ],
 "metadata": {
  "kernelspec": {
   "display_name": "Python 3",
   "language": "python",
   "name": "python3"
  },
  "language_info": {
   "codemirror_mode": {
    "name": "ipython",
    "version": 3
   },
   "file_extension": ".py",
   "mimetype": "text/x-python",
   "name": "python",
   "nbconvert_exporter": "python",
   "pygments_lexer": "ipython3",
   "version": "3.10.6"
  },
  "orig_nbformat": 4
 },
 "nbformat": 4,
 "nbformat_minor": 2
}
